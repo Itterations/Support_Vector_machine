{
 "cells": [
  {
   "cell_type": "code",
   "execution_count": 1,
   "id": "8520915e",
   "metadata": {},
   "outputs": [],
   "source": [
    "# Importing libraries required for the task\n",
    "\n",
    "import wget   # Library to import online dataset\n",
    "import os\n",
    "import numpy as np\n",
    "import matplotlib.pyplot as plt\n",
    "import seaborn as sns\n",
    "import pandas as pd\n",
    "\n",
    "\n",
    "import re  # regular expression"
   ]
  },
  {
   "cell_type": "markdown",
   "id": "b10fedec",
   "metadata": {},
   "source": [
    "# Q1 importing Online file"
   ]
  },
  {
   "cell_type": "code",
   "execution_count": 2,
   "id": "db55425d",
   "metadata": {},
   "outputs": [],
   "source": [
    "url = 'https://www.kaggle.com/mansoordaku/ckdisease'  # Url of online dataset"
   ]
  },
  {
   "cell_type": "code",
   "execution_count": 3,
   "id": "6db58576",
   "metadata": {},
   "outputs": [
    {
     "data": {
      "text/plain": [
       "'/home/passivereferral/Downloads/Ritesh_BITS/dataset (1).csv'"
      ]
     },
     "execution_count": 3,
     "metadata": {},
     "output_type": "execute_result"
    }
   ],
   "source": [
    "#download_path = os.path.join(folder,file_name)\n",
    "\n",
    "file_name = 'dataset.csv'\n",
    "folder = '/home/passivereferral/Downloads/Ritesh_BITS'\n",
    "\n",
    "\n",
    "download_path = os.path.join(folder,file_name)\n",
    "wget.download(url,download_path)"
   ]
  },
  {
   "cell_type": "code",
   "execution_count": 4,
   "id": "ee094f2d",
   "metadata": {},
   "outputs": [],
   "source": [
    "import zipfile\n",
    "\n",
    "path_to_zip_file = '/home/passivereferral/Downloads/Ritesh_BITS/Classification/archive.zip'\n",
    "\n",
    "directory_to_extract_to = '/home/passivereferral/Downloads/Ritesh_BITS/Classification/Assignment_4'"
   ]
  },
  {
   "cell_type": "code",
   "execution_count": 5,
   "id": "31f93538",
   "metadata": {},
   "outputs": [],
   "source": [
    "with zipfile.ZipFile(path_to_zip_file, 'r') as zip_ref:\n",
    "    zip_ref.extractall(directory_to_extract_to)"
   ]
  },
  {
   "cell_type": "code",
   "execution_count": 6,
   "id": "1522cf27",
   "metadata": {},
   "outputs": [],
   "source": [
    "# Reading dataset \n",
    "\n",
    "df = pd.read_csv('/home/passivereferral/Downloads/Ritesh_BITS/Classification/Assignment_4/kidney_disease.csv')"
   ]
  },
  {
   "cell_type": "code",
   "execution_count": 7,
   "id": "ee43de6f",
   "metadata": {},
   "outputs": [
    {
     "data": {
      "text/html": [
       "<div>\n",
       "<style scoped>\n",
       "    .dataframe tbody tr th:only-of-type {\n",
       "        vertical-align: middle;\n",
       "    }\n",
       "\n",
       "    .dataframe tbody tr th {\n",
       "        vertical-align: top;\n",
       "    }\n",
       "\n",
       "    .dataframe thead th {\n",
       "        text-align: right;\n",
       "    }\n",
       "</style>\n",
       "<table border=\"1\" class=\"dataframe\">\n",
       "  <thead>\n",
       "    <tr style=\"text-align: right;\">\n",
       "      <th></th>\n",
       "      <th>id</th>\n",
       "      <th>age</th>\n",
       "      <th>bp</th>\n",
       "      <th>sg</th>\n",
       "      <th>al</th>\n",
       "      <th>su</th>\n",
       "      <th>rbc</th>\n",
       "      <th>pc</th>\n",
       "      <th>pcc</th>\n",
       "      <th>ba</th>\n",
       "      <th>...</th>\n",
       "      <th>pcv</th>\n",
       "      <th>wc</th>\n",
       "      <th>rc</th>\n",
       "      <th>htn</th>\n",
       "      <th>dm</th>\n",
       "      <th>cad</th>\n",
       "      <th>appet</th>\n",
       "      <th>pe</th>\n",
       "      <th>ane</th>\n",
       "      <th>classification</th>\n",
       "    </tr>\n",
       "  </thead>\n",
       "  <tbody>\n",
       "    <tr>\n",
       "      <th>0</th>\n",
       "      <td>0</td>\n",
       "      <td>48.0</td>\n",
       "      <td>80.0</td>\n",
       "      <td>1.020</td>\n",
       "      <td>1.0</td>\n",
       "      <td>0.0</td>\n",
       "      <td>NaN</td>\n",
       "      <td>normal</td>\n",
       "      <td>notpresent</td>\n",
       "      <td>notpresent</td>\n",
       "      <td>...</td>\n",
       "      <td>44</td>\n",
       "      <td>7800</td>\n",
       "      <td>5.2</td>\n",
       "      <td>yes</td>\n",
       "      <td>yes</td>\n",
       "      <td>no</td>\n",
       "      <td>good</td>\n",
       "      <td>no</td>\n",
       "      <td>no</td>\n",
       "      <td>ckd</td>\n",
       "    </tr>\n",
       "    <tr>\n",
       "      <th>1</th>\n",
       "      <td>1</td>\n",
       "      <td>7.0</td>\n",
       "      <td>50.0</td>\n",
       "      <td>1.020</td>\n",
       "      <td>4.0</td>\n",
       "      <td>0.0</td>\n",
       "      <td>NaN</td>\n",
       "      <td>normal</td>\n",
       "      <td>notpresent</td>\n",
       "      <td>notpresent</td>\n",
       "      <td>...</td>\n",
       "      <td>38</td>\n",
       "      <td>6000</td>\n",
       "      <td>NaN</td>\n",
       "      <td>no</td>\n",
       "      <td>no</td>\n",
       "      <td>no</td>\n",
       "      <td>good</td>\n",
       "      <td>no</td>\n",
       "      <td>no</td>\n",
       "      <td>ckd</td>\n",
       "    </tr>\n",
       "    <tr>\n",
       "      <th>2</th>\n",
       "      <td>2</td>\n",
       "      <td>62.0</td>\n",
       "      <td>80.0</td>\n",
       "      <td>1.010</td>\n",
       "      <td>2.0</td>\n",
       "      <td>3.0</td>\n",
       "      <td>normal</td>\n",
       "      <td>normal</td>\n",
       "      <td>notpresent</td>\n",
       "      <td>notpresent</td>\n",
       "      <td>...</td>\n",
       "      <td>31</td>\n",
       "      <td>7500</td>\n",
       "      <td>NaN</td>\n",
       "      <td>no</td>\n",
       "      <td>yes</td>\n",
       "      <td>no</td>\n",
       "      <td>poor</td>\n",
       "      <td>no</td>\n",
       "      <td>yes</td>\n",
       "      <td>ckd</td>\n",
       "    </tr>\n",
       "    <tr>\n",
       "      <th>3</th>\n",
       "      <td>3</td>\n",
       "      <td>48.0</td>\n",
       "      <td>70.0</td>\n",
       "      <td>1.005</td>\n",
       "      <td>4.0</td>\n",
       "      <td>0.0</td>\n",
       "      <td>normal</td>\n",
       "      <td>abnormal</td>\n",
       "      <td>present</td>\n",
       "      <td>notpresent</td>\n",
       "      <td>...</td>\n",
       "      <td>32</td>\n",
       "      <td>6700</td>\n",
       "      <td>3.9</td>\n",
       "      <td>yes</td>\n",
       "      <td>no</td>\n",
       "      <td>no</td>\n",
       "      <td>poor</td>\n",
       "      <td>yes</td>\n",
       "      <td>yes</td>\n",
       "      <td>ckd</td>\n",
       "    </tr>\n",
       "    <tr>\n",
       "      <th>4</th>\n",
       "      <td>4</td>\n",
       "      <td>51.0</td>\n",
       "      <td>80.0</td>\n",
       "      <td>1.010</td>\n",
       "      <td>2.0</td>\n",
       "      <td>0.0</td>\n",
       "      <td>normal</td>\n",
       "      <td>normal</td>\n",
       "      <td>notpresent</td>\n",
       "      <td>notpresent</td>\n",
       "      <td>...</td>\n",
       "      <td>35</td>\n",
       "      <td>7300</td>\n",
       "      <td>4.6</td>\n",
       "      <td>no</td>\n",
       "      <td>no</td>\n",
       "      <td>no</td>\n",
       "      <td>good</td>\n",
       "      <td>no</td>\n",
       "      <td>no</td>\n",
       "      <td>ckd</td>\n",
       "    </tr>\n",
       "  </tbody>\n",
       "</table>\n",
       "<p>5 rows × 26 columns</p>\n",
       "</div>"
      ],
      "text/plain": [
       "   id   age    bp     sg   al   su     rbc        pc         pcc          ba  \\\n",
       "0   0  48.0  80.0  1.020  1.0  0.0     NaN    normal  notpresent  notpresent   \n",
       "1   1   7.0  50.0  1.020  4.0  0.0     NaN    normal  notpresent  notpresent   \n",
       "2   2  62.0  80.0  1.010  2.0  3.0  normal    normal  notpresent  notpresent   \n",
       "3   3  48.0  70.0  1.005  4.0  0.0  normal  abnormal     present  notpresent   \n",
       "4   4  51.0  80.0  1.010  2.0  0.0  normal    normal  notpresent  notpresent   \n",
       "\n",
       "   ...  pcv    wc   rc  htn   dm  cad appet   pe  ane classification  \n",
       "0  ...   44  7800  5.2  yes  yes   no  good   no   no            ckd  \n",
       "1  ...   38  6000  NaN   no   no   no  good   no   no            ckd  \n",
       "2  ...   31  7500  NaN   no  yes   no  poor   no  yes            ckd  \n",
       "3  ...   32  6700  3.9  yes   no   no  poor  yes  yes            ckd  \n",
       "4  ...   35  7300  4.6   no   no   no  good   no   no            ckd  \n",
       "\n",
       "[5 rows x 26 columns]"
      ]
     },
     "execution_count": 7,
     "metadata": {},
     "output_type": "execute_result"
    }
   ],
   "source": [
    "df.head()"
   ]
  },
  {
   "cell_type": "code",
   "execution_count": 8,
   "id": "b7324766",
   "metadata": {},
   "outputs": [
    {
     "name": "stdout",
     "output_type": "stream",
     "text": [
      "<class 'pandas.core.frame.DataFrame'>\n",
      "RangeIndex: 400 entries, 0 to 399\n",
      "Data columns (total 26 columns):\n",
      " #   Column          Non-Null Count  Dtype  \n",
      "---  ------          --------------  -----  \n",
      " 0   id              400 non-null    int64  \n",
      " 1   age             391 non-null    float64\n",
      " 2   bp              388 non-null    float64\n",
      " 3   sg              353 non-null    float64\n",
      " 4   al              354 non-null    float64\n",
      " 5   su              351 non-null    float64\n",
      " 6   rbc             248 non-null    object \n",
      " 7   pc              335 non-null    object \n",
      " 8   pcc             396 non-null    object \n",
      " 9   ba              396 non-null    object \n",
      " 10  bgr             356 non-null    float64\n",
      " 11  bu              381 non-null    float64\n",
      " 12  sc              383 non-null    float64\n",
      " 13  sod             313 non-null    float64\n",
      " 14  pot             312 non-null    float64\n",
      " 15  hemo            348 non-null    float64\n",
      " 16  pcv             330 non-null    object \n",
      " 17  wc              295 non-null    object \n",
      " 18  rc              270 non-null    object \n",
      " 19  htn             398 non-null    object \n",
      " 20  dm              398 non-null    object \n",
      " 21  cad             398 non-null    object \n",
      " 22  appet           399 non-null    object \n",
      " 23  pe              399 non-null    object \n",
      " 24  ane             399 non-null    object \n",
      " 25  classification  400 non-null    object \n",
      "dtypes: float64(11), int64(1), object(14)\n",
      "memory usage: 81.4+ KB\n"
     ]
    }
   ],
   "source": [
    "df.info()"
   ]
  },
  {
   "cell_type": "markdown",
   "id": "45c42d5d",
   "metadata": {},
   "source": [
    "**id** is the unique identification number to each dataset hence it is not a useful feature thus we can drop it.<br >\n",
    "\n",
    "Apart from this some other features are having wrong datatype such as: <br >\n",
    "1. pcv<br >\n",
    "2. wc <br >\n",
    "3. rc <br >\n",
    "hence we need to change the datatype for this columns."
   ]
  },
  {
   "cell_type": "code",
   "execution_count": 9,
   "id": "c12c174b",
   "metadata": {},
   "outputs": [
    {
     "data": {
      "text/plain": [
       "\"\\ndf['pcv']= pd.to_numeric(df['pcv'])\\ndf['wc']= pd.to_numeric(df['wc'])\\ndf['rc']= pd.to_numeric(df['rc'])\\n\""
      ]
     },
     "execution_count": 9,
     "metadata": {},
     "output_type": "execute_result"
    }
   ],
   "source": [
    "'''\n",
    "df['pcv']= pd.to_numeric(df['pcv'])\n",
    "df['wc']= pd.to_numeric(df['wc'])\n",
    "df['rc']= pd.to_numeric(df['rc'])\n",
    "'''"
   ]
  },
  {
   "cell_type": "markdown",
   "id": "a89df889",
   "metadata": {},
   "source": [
    "Unusual error were being shown at position 66, 162 & 185 no. position."
   ]
  },
  {
   "cell_type": "code",
   "execution_count": 10,
   "id": "9059e55a",
   "metadata": {},
   "outputs": [
    {
     "data": {
      "text/html": [
       "<div>\n",
       "<style scoped>\n",
       "    .dataframe tbody tr th:only-of-type {\n",
       "        vertical-align: middle;\n",
       "    }\n",
       "\n",
       "    .dataframe tbody tr th {\n",
       "        vertical-align: top;\n",
       "    }\n",
       "\n",
       "    .dataframe thead th {\n",
       "        text-align: right;\n",
       "    }\n",
       "</style>\n",
       "<table border=\"1\" class=\"dataframe\">\n",
       "  <thead>\n",
       "    <tr style=\"text-align: right;\">\n",
       "      <th></th>\n",
       "      <th>id</th>\n",
       "      <th>age</th>\n",
       "      <th>bp</th>\n",
       "      <th>sg</th>\n",
       "      <th>al</th>\n",
       "      <th>su</th>\n",
       "      <th>rbc</th>\n",
       "      <th>pc</th>\n",
       "      <th>pcc</th>\n",
       "      <th>ba</th>\n",
       "      <th>...</th>\n",
       "      <th>pcv</th>\n",
       "      <th>wc</th>\n",
       "      <th>rc</th>\n",
       "      <th>htn</th>\n",
       "      <th>dm</th>\n",
       "      <th>cad</th>\n",
       "      <th>appet</th>\n",
       "      <th>pe</th>\n",
       "      <th>ane</th>\n",
       "      <th>classification</th>\n",
       "    </tr>\n",
       "  </thead>\n",
       "  <tbody>\n",
       "    <tr>\n",
       "      <th>66</th>\n",
       "      <td>66</td>\n",
       "      <td>67.0</td>\n",
       "      <td>70.0</td>\n",
       "      <td>1.02</td>\n",
       "      <td>2.0</td>\n",
       "      <td>0.0</td>\n",
       "      <td>abnormal</td>\n",
       "      <td>normal</td>\n",
       "      <td>notpresent</td>\n",
       "      <td>notpresent</td>\n",
       "      <td>...</td>\n",
       "      <td>\\t?</td>\n",
       "      <td>NaN</td>\n",
       "      <td>NaN</td>\n",
       "      <td>yes</td>\n",
       "      <td>yes</td>\n",
       "      <td>no</td>\n",
       "      <td>good</td>\n",
       "      <td>yes</td>\n",
       "      <td>no</td>\n",
       "      <td>ckd</td>\n",
       "    </tr>\n",
       "    <tr>\n",
       "      <th>185</th>\n",
       "      <td>185</td>\n",
       "      <td>4.0</td>\n",
       "      <td>NaN</td>\n",
       "      <td>1.02</td>\n",
       "      <td>1.0</td>\n",
       "      <td>0.0</td>\n",
       "      <td>NaN</td>\n",
       "      <td>normal</td>\n",
       "      <td>notpresent</td>\n",
       "      <td>notpresent</td>\n",
       "      <td>...</td>\n",
       "      <td>34</td>\n",
       "      <td>\\t?</td>\n",
       "      <td>NaN</td>\n",
       "      <td>no</td>\n",
       "      <td>no</td>\n",
       "      <td>no</td>\n",
       "      <td>good</td>\n",
       "      <td>no</td>\n",
       "      <td>no</td>\n",
       "      <td>ckd</td>\n",
       "    </tr>\n",
       "    <tr>\n",
       "      <th>162</th>\n",
       "      <td>162</td>\n",
       "      <td>59.0</td>\n",
       "      <td>70.0</td>\n",
       "      <td>NaN</td>\n",
       "      <td>NaN</td>\n",
       "      <td>NaN</td>\n",
       "      <td>NaN</td>\n",
       "      <td>NaN</td>\n",
       "      <td>notpresent</td>\n",
       "      <td>notpresent</td>\n",
       "      <td>...</td>\n",
       "      <td>37</td>\n",
       "      <td>6000</td>\n",
       "      <td>\\t?</td>\n",
       "      <td>no</td>\n",
       "      <td>yes</td>\n",
       "      <td>no</td>\n",
       "      <td>good</td>\n",
       "      <td>no</td>\n",
       "      <td>no</td>\n",
       "      <td>ckd</td>\n",
       "    </tr>\n",
       "  </tbody>\n",
       "</table>\n",
       "<p>3 rows × 26 columns</p>\n",
       "</div>"
      ],
      "text/plain": [
       "      id   age    bp    sg   al   su       rbc      pc         pcc  \\\n",
       "66    66  67.0  70.0  1.02  2.0  0.0  abnormal  normal  notpresent   \n",
       "185  185   4.0   NaN  1.02  1.0  0.0       NaN  normal  notpresent   \n",
       "162  162  59.0  70.0   NaN  NaN  NaN       NaN     NaN  notpresent   \n",
       "\n",
       "             ba  ...  pcv    wc   rc  htn   dm  cad appet   pe ane  \\\n",
       "66   notpresent  ...  \\t?   NaN  NaN  yes  yes   no  good  yes  no   \n",
       "185  notpresent  ...   34   \\t?  NaN   no   no   no  good   no  no   \n",
       "162  notpresent  ...   37  6000  \\t?   no  yes   no  good   no  no   \n",
       "\n",
       "    classification  \n",
       "66             ckd  \n",
       "185            ckd  \n",
       "162            ckd  \n",
       "\n",
       "[3 rows x 26 columns]"
      ]
     },
     "execution_count": 10,
     "metadata": {},
     "output_type": "execute_result"
    }
   ],
   "source": [
    "# print position error positions row\n",
    "\n",
    "df.loc[[66,185,162]]"
   ]
  },
  {
   "cell_type": "code",
   "execution_count": 11,
   "id": "6ef54819",
   "metadata": {},
   "outputs": [],
   "source": [
    "# lets replace this garbage value with NaN\n",
    "\n",
    "df.loc[[66],'pcv'] = np.nan\n",
    "df.loc[[162],'rc'] = np.nan\n",
    "df.loc[[185],'wc'] = np.nan\n"
   ]
  },
  {
   "cell_type": "code",
   "execution_count": 12,
   "id": "0746eae2",
   "metadata": {},
   "outputs": [
    {
     "data": {
      "text/html": [
       "<div>\n",
       "<style scoped>\n",
       "    .dataframe tbody tr th:only-of-type {\n",
       "        vertical-align: middle;\n",
       "    }\n",
       "\n",
       "    .dataframe tbody tr th {\n",
       "        vertical-align: top;\n",
       "    }\n",
       "\n",
       "    .dataframe thead th {\n",
       "        text-align: right;\n",
       "    }\n",
       "</style>\n",
       "<table border=\"1\" class=\"dataframe\">\n",
       "  <thead>\n",
       "    <tr style=\"text-align: right;\">\n",
       "      <th></th>\n",
       "      <th>id</th>\n",
       "      <th>age</th>\n",
       "      <th>bp</th>\n",
       "      <th>sg</th>\n",
       "      <th>al</th>\n",
       "      <th>su</th>\n",
       "      <th>rbc</th>\n",
       "      <th>pc</th>\n",
       "      <th>pcc</th>\n",
       "      <th>ba</th>\n",
       "      <th>...</th>\n",
       "      <th>pcv</th>\n",
       "      <th>wc</th>\n",
       "      <th>rc</th>\n",
       "      <th>htn</th>\n",
       "      <th>dm</th>\n",
       "      <th>cad</th>\n",
       "      <th>appet</th>\n",
       "      <th>pe</th>\n",
       "      <th>ane</th>\n",
       "      <th>classification</th>\n",
       "    </tr>\n",
       "  </thead>\n",
       "  <tbody>\n",
       "    <tr>\n",
       "      <th>66</th>\n",
       "      <td>66</td>\n",
       "      <td>67.0</td>\n",
       "      <td>70.0</td>\n",
       "      <td>1.02</td>\n",
       "      <td>2.0</td>\n",
       "      <td>0.0</td>\n",
       "      <td>abnormal</td>\n",
       "      <td>normal</td>\n",
       "      <td>notpresent</td>\n",
       "      <td>notpresent</td>\n",
       "      <td>...</td>\n",
       "      <td>NaN</td>\n",
       "      <td>NaN</td>\n",
       "      <td>NaN</td>\n",
       "      <td>yes</td>\n",
       "      <td>yes</td>\n",
       "      <td>no</td>\n",
       "      <td>good</td>\n",
       "      <td>yes</td>\n",
       "      <td>no</td>\n",
       "      <td>ckd</td>\n",
       "    </tr>\n",
       "    <tr>\n",
       "      <th>185</th>\n",
       "      <td>185</td>\n",
       "      <td>4.0</td>\n",
       "      <td>NaN</td>\n",
       "      <td>1.02</td>\n",
       "      <td>1.0</td>\n",
       "      <td>0.0</td>\n",
       "      <td>NaN</td>\n",
       "      <td>normal</td>\n",
       "      <td>notpresent</td>\n",
       "      <td>notpresent</td>\n",
       "      <td>...</td>\n",
       "      <td>34</td>\n",
       "      <td>NaN</td>\n",
       "      <td>NaN</td>\n",
       "      <td>no</td>\n",
       "      <td>no</td>\n",
       "      <td>no</td>\n",
       "      <td>good</td>\n",
       "      <td>no</td>\n",
       "      <td>no</td>\n",
       "      <td>ckd</td>\n",
       "    </tr>\n",
       "    <tr>\n",
       "      <th>162</th>\n",
       "      <td>162</td>\n",
       "      <td>59.0</td>\n",
       "      <td>70.0</td>\n",
       "      <td>NaN</td>\n",
       "      <td>NaN</td>\n",
       "      <td>NaN</td>\n",
       "      <td>NaN</td>\n",
       "      <td>NaN</td>\n",
       "      <td>notpresent</td>\n",
       "      <td>notpresent</td>\n",
       "      <td>...</td>\n",
       "      <td>37</td>\n",
       "      <td>6000</td>\n",
       "      <td>NaN</td>\n",
       "      <td>no</td>\n",
       "      <td>yes</td>\n",
       "      <td>no</td>\n",
       "      <td>good</td>\n",
       "      <td>no</td>\n",
       "      <td>no</td>\n",
       "      <td>ckd</td>\n",
       "    </tr>\n",
       "  </tbody>\n",
       "</table>\n",
       "<p>3 rows × 26 columns</p>\n",
       "</div>"
      ],
      "text/plain": [
       "      id   age    bp    sg   al   su       rbc      pc         pcc  \\\n",
       "66    66  67.0  70.0  1.02  2.0  0.0  abnormal  normal  notpresent   \n",
       "185  185   4.0   NaN  1.02  1.0  0.0       NaN  normal  notpresent   \n",
       "162  162  59.0  70.0   NaN  NaN  NaN       NaN     NaN  notpresent   \n",
       "\n",
       "             ba  ...  pcv    wc   rc  htn   dm  cad appet   pe ane  \\\n",
       "66   notpresent  ...  NaN   NaN  NaN  yes  yes   no  good  yes  no   \n",
       "185  notpresent  ...   34   NaN  NaN   no   no   no  good   no  no   \n",
       "162  notpresent  ...   37  6000  NaN   no  yes   no  good   no  no   \n",
       "\n",
       "    classification  \n",
       "66             ckd  \n",
       "185            ckd  \n",
       "162            ckd  \n",
       "\n",
       "[3 rows x 26 columns]"
      ]
     },
     "execution_count": 12,
     "metadata": {},
     "output_type": "execute_result"
    }
   ],
   "source": [
    "# print position error positions row\n",
    "\n",
    "df.loc[[66,185,162]]"
   ]
  },
  {
   "cell_type": "code",
   "execution_count": 13,
   "id": "d81b8230",
   "metadata": {},
   "outputs": [],
   "source": [
    "# Converting features datatype to String--> float64\n",
    "\n",
    "df['pcv']= pd.to_numeric(df['pcv'])\n",
    "df['wc']= pd.to_numeric(df['wc'])\n",
    "df['rc']= pd.to_numeric(df['rc'])"
   ]
  },
  {
   "cell_type": "code",
   "execution_count": 14,
   "id": "cc2b49db",
   "metadata": {},
   "outputs": [],
   "source": [
    "# Column 'id' has no other signifinace than just an identity number hence it is wise to remove it\n",
    "\n",
    "df.drop('id', axis=1 , inplace = True)"
   ]
  },
  {
   "cell_type": "markdown",
   "id": "7add00e0",
   "metadata": {},
   "source": [
    "### EDA of target Variable"
   ]
  },
  {
   "cell_type": "code",
   "execution_count": 15,
   "id": "40e1beac",
   "metadata": {},
   "outputs": [
    {
     "data": {
      "text/plain": [
       "classification\n",
       "ckd       248\n",
       "ckd\\t       2\n",
       "notckd    150\n",
       "Name: classification, dtype: int64"
      ]
     },
     "execution_count": 15,
     "metadata": {},
     "output_type": "execute_result"
    }
   ],
   "source": [
    "df.groupby(['classification'])['classification'].count()"
   ]
  },
  {
   "cell_type": "code",
   "execution_count": 16,
   "id": "e2625207",
   "metadata": {},
   "outputs": [
    {
     "data": {
      "text/plain": [
       "classification\n",
       "ckd       250\n",
       "notckd    150\n",
       "Name: classification, dtype: int64"
      ]
     },
     "execution_count": 16,
     "metadata": {},
     "output_type": "execute_result"
    }
   ],
   "source": [
    "df.replace(to_replace =\"ckd\\t\", value ='ckd', inplace = True)\n",
    "\n",
    "df.groupby(['classification'])['classification'].count()"
   ]
  },
  {
   "cell_type": "markdown",
   "id": "861af2eb",
   "metadata": {},
   "source": []
  },
  {
   "cell_type": "code",
   "execution_count": null,
   "id": "0939ec72",
   "metadata": {},
   "outputs": [],
   "source": []
  },
  {
   "cell_type": "markdown",
   "id": "2803b4a8",
   "metadata": {},
   "source": [
    " ### EDA feature variables"
   ]
  },
  {
   "cell_type": "code",
   "execution_count": 17,
   "id": "3c82e947",
   "metadata": {},
   "outputs": [
    {
     "name": "stdout",
     "output_type": "stream",
     "text": [
      "<class 'pandas.core.frame.DataFrame'>\n",
      "RangeIndex: 400 entries, 0 to 399\n",
      "Data columns (total 25 columns):\n",
      " #   Column          Non-Null Count  Dtype  \n",
      "---  ------          --------------  -----  \n",
      " 0   age             391 non-null    float64\n",
      " 1   bp              388 non-null    float64\n",
      " 2   sg              353 non-null    float64\n",
      " 3   al              354 non-null    float64\n",
      " 4   su              351 non-null    float64\n",
      " 5   rbc             248 non-null    object \n",
      " 6   pc              335 non-null    object \n",
      " 7   pcc             396 non-null    object \n",
      " 8   ba              396 non-null    object \n",
      " 9   bgr             356 non-null    float64\n",
      " 10  bu              381 non-null    float64\n",
      " 11  sc              383 non-null    float64\n",
      " 12  sod             313 non-null    float64\n",
      " 13  pot             312 non-null    float64\n",
      " 14  hemo            348 non-null    float64\n",
      " 15  pcv             329 non-null    float64\n",
      " 16  wc              294 non-null    float64\n",
      " 17  rc              269 non-null    float64\n",
      " 18  htn             398 non-null    object \n",
      " 19  dm              398 non-null    object \n",
      " 20  cad             398 non-null    object \n",
      " 21  appet           399 non-null    object \n",
      " 22  pe              399 non-null    object \n",
      " 23  ane             399 non-null    object \n",
      " 24  classification  400 non-null    object \n",
      "dtypes: float64(14), object(11)\n",
      "memory usage: 78.2+ KB\n"
     ]
    }
   ],
   "source": [
    "df.info()"
   ]
  },
  {
   "cell_type": "code",
   "execution_count": 18,
   "id": "1d7b1254",
   "metadata": {},
   "outputs": [
    {
     "data": {
      "text/plain": [
       "Index(['age', 'bp', 'sg', 'al', 'su', 'rbc', 'pc', 'pcc', 'ba', 'bgr', 'bu',\n",
       "       'sc', 'sod', 'pot', 'hemo', 'pcv', 'wc', 'rc', 'htn', 'dm', 'cad',\n",
       "       'appet', 'pe', 'ane', 'classification'],\n",
       "      dtype='object')"
      ]
     },
     "execution_count": 18,
     "metadata": {},
     "output_type": "execute_result"
    }
   ],
   "source": [
    "# Replacing the null value with mean for numerical features considering the target variable\n",
    "\n",
    "lst = df.columns\n",
    "lst"
   ]
  },
  {
   "cell_type": "code",
   "execution_count": 19,
   "id": "a610cd8a",
   "metadata": {},
   "outputs": [
    {
     "data": {
      "text/plain": [
       "['age',\n",
       " 'bp',\n",
       " 'sg',\n",
       " 'al',\n",
       " 'su',\n",
       " 'bgr',\n",
       " 'bu',\n",
       " 'sc',\n",
       " 'sod',\n",
       " 'pot',\n",
       " 'hemo',\n",
       " 'pcv',\n",
       " 'wc',\n",
       " 'rc']"
      ]
     },
     "execution_count": 19,
     "metadata": {},
     "output_type": "execute_result"
    }
   ],
   "source": [
    "lst_cat = ['rbc', 'pc', 'pcc', 'ba', 'htn', 'dm', 'cad','appet', 'pe', 'ane']\n",
    "\n",
    "lst_num = [x for x in lst if x not in lst_cat]\n",
    "lst_num.remove('classification')\n",
    "lst_num"
   ]
  },
  {
   "cell_type": "code",
   "execution_count": 20,
   "id": "5e4f19b6",
   "metadata": {},
   "outputs": [
    {
     "data": {
      "text/plain": [
       "age               0\n",
       "bp                0\n",
       "sg                0\n",
       "al                0\n",
       "su                0\n",
       "rbc               0\n",
       "pc                0\n",
       "pcc               0\n",
       "ba                0\n",
       "bgr               0\n",
       "bu                0\n",
       "sc                0\n",
       "sod               0\n",
       "pot               0\n",
       "hemo              0\n",
       "pcv               0\n",
       "wc                0\n",
       "rc                0\n",
       "htn               0\n",
       "dm                0\n",
       "cad               0\n",
       "appet             0\n",
       "pe                0\n",
       "ane               0\n",
       "classification    0\n",
       "dtype: int64"
      ]
     },
     "execution_count": 20,
     "metadata": {},
     "output_type": "execute_result"
    }
   ],
   "source": [
    "#df.loc[df['B'] == 3, 'A'].iloc[0]\n",
    "#df[cols_mode].apply(lambda x: x.fillna(x.mode, inplace=True))\n",
    "\n",
    "\n",
    "\n",
    "for column_name in lst_num:\n",
    "        \n",
    "    mean = df[column_name].mean()\n",
    "           \n",
    "    df.fillna({column_name : mean}, inplace=True)\n",
    "\n",
    "        \n",
    "for column_name in lst_cat:\n",
    "    \n",
    "    mode= df[column_name].mode()[0]\n",
    "           \n",
    "    df.fillna({column_name : mode}, inplace=True)\n",
    "\n",
    "    \n",
    "\n",
    "df.isnull().sum()"
   ]
  },
  {
   "cell_type": "markdown",
   "id": "5ba3f698",
   "metadata": {},
   "source": []
  },
  {
   "cell_type": "code",
   "execution_count": 21,
   "id": "261428b2",
   "metadata": {},
   "outputs": [
    {
     "data": {
      "text/plain": [
       "['rbc', 'pc', 'pcc', 'ba', 'htn', 'dm', 'cad', 'appet', 'pe', 'ane']"
      ]
     },
     "execution_count": 21,
     "metadata": {},
     "output_type": "execute_result"
    }
   ],
   "source": [
    "# Cleaning of Catagorical feature columns\n",
    "\n",
    "lst_cat"
   ]
  },
  {
   "cell_type": "code",
   "execution_count": 22,
   "id": "a6694840",
   "metadata": {},
   "outputs": [
    {
     "data": {
      "text/plain": [
       "array(['normal', 'abnormal'], dtype=object)"
      ]
     },
     "execution_count": 22,
     "metadata": {},
     "output_type": "execute_result"
    }
   ],
   "source": [
    "df.rbc.unique() # No issue here"
   ]
  },
  {
   "cell_type": "code",
   "execution_count": 23,
   "id": "40320954",
   "metadata": {},
   "outputs": [
    {
     "data": {
      "text/plain": [
       "array(['normal', 'abnormal'], dtype=object)"
      ]
     },
     "execution_count": 23,
     "metadata": {},
     "output_type": "execute_result"
    }
   ],
   "source": [
    "df.pc.unique() # No issue here"
   ]
  },
  {
   "cell_type": "code",
   "execution_count": 24,
   "id": "43866ca1",
   "metadata": {},
   "outputs": [
    {
     "data": {
      "text/plain": [
       "array(['notpresent', 'present'], dtype=object)"
      ]
     },
     "execution_count": 24,
     "metadata": {},
     "output_type": "execute_result"
    }
   ],
   "source": [
    "df.pcc.unique() # No issue here"
   ]
  },
  {
   "cell_type": "code",
   "execution_count": 25,
   "id": "bdab9160",
   "metadata": {},
   "outputs": [
    {
     "data": {
      "text/plain": [
       "array(['notpresent', 'present'], dtype=object)"
      ]
     },
     "execution_count": 25,
     "metadata": {},
     "output_type": "execute_result"
    }
   ],
   "source": [
    "df.ba.unique() # No issue here"
   ]
  },
  {
   "cell_type": "code",
   "execution_count": 26,
   "id": "b33028b2",
   "metadata": {},
   "outputs": [
    {
     "data": {
      "text/plain": [
       "array(['yes', 'no'], dtype=object)"
      ]
     },
     "execution_count": 26,
     "metadata": {},
     "output_type": "execute_result"
    }
   ],
   "source": [
    "df.htn.unique() # No issue here"
   ]
  },
  {
   "cell_type": "code",
   "execution_count": 27,
   "id": "c9480a6d",
   "metadata": {},
   "outputs": [
    {
     "data": {
      "text/plain": [
       "array(['yes', 'no', ' yes', '\\tno', '\\tyes'], dtype=object)"
      ]
     },
     "execution_count": 27,
     "metadata": {},
     "output_type": "execute_result"
    }
   ],
   "source": [
    "df.dm.unique() # here we are having multiple catagories refering to same details"
   ]
  },
  {
   "cell_type": "code",
   "execution_count": 28,
   "id": "5dd66554",
   "metadata": {},
   "outputs": [
    {
     "data": {
      "text/plain": [
       "array(['yes', 'no'], dtype=object)"
      ]
     },
     "execution_count": 28,
     "metadata": {},
     "output_type": "execute_result"
    }
   ],
   "source": [
    "df.dm.replace(to_replace =[\" yes\", \"\\tyes\"], value =\"yes\", inplace = True)\n",
    "df.dm.replace(to_replace =\"\\tno\", value =\"no\", inplace = True)\n",
    "\n",
    "df.dm.unique() "
   ]
  },
  {
   "cell_type": "code",
   "execution_count": 29,
   "id": "d023ea8c",
   "metadata": {},
   "outputs": [
    {
     "data": {
      "text/plain": [
       "array(['no', 'yes', '\\tno'], dtype=object)"
      ]
     },
     "execution_count": 29,
     "metadata": {},
     "output_type": "execute_result"
    }
   ],
   "source": [
    "df.cad.unique() # here we are having multiple catagories refering to same details"
   ]
  },
  {
   "cell_type": "code",
   "execution_count": 30,
   "id": "8fc45f19",
   "metadata": {},
   "outputs": [
    {
     "data": {
      "text/plain": [
       "array(['no', 'yes'], dtype=object)"
      ]
     },
     "execution_count": 30,
     "metadata": {},
     "output_type": "execute_result"
    }
   ],
   "source": [
    "df.cad.replace(to_replace =[\"\\tno\"], value =\"no\", inplace = True)\n",
    "\n",
    "df.cad.unique()"
   ]
  },
  {
   "cell_type": "code",
   "execution_count": 31,
   "id": "28ab11da",
   "metadata": {},
   "outputs": [
    {
     "data": {
      "text/plain": [
       "array(['good', 'poor'], dtype=object)"
      ]
     },
     "execution_count": 31,
     "metadata": {},
     "output_type": "execute_result"
    }
   ],
   "source": [
    "df.appet.unique() # No issue here"
   ]
  },
  {
   "cell_type": "code",
   "execution_count": 32,
   "id": "f40c7eaa",
   "metadata": {},
   "outputs": [
    {
     "data": {
      "text/plain": [
       "array(['good', 'poor'], dtype=object)"
      ]
     },
     "execution_count": 32,
     "metadata": {},
     "output_type": "execute_result"
    }
   ],
   "source": [
    "df.appet.unique() # No issue here"
   ]
  },
  {
   "cell_type": "code",
   "execution_count": 33,
   "id": "4a361cd7",
   "metadata": {},
   "outputs": [
    {
     "data": {
      "text/plain": [
       "array(['no', 'yes'], dtype=object)"
      ]
     },
     "execution_count": 33,
     "metadata": {},
     "output_type": "execute_result"
    }
   ],
   "source": [
    "df.ane.unique() # No issue here"
   ]
  },
  {
   "cell_type": "markdown",
   "id": "86571adf",
   "metadata": {},
   "source": [
    "# Q5 Feature Scaling  : MaxAbsScaler"
   ]
  },
  {
   "cell_type": "code",
   "execution_count": 34,
   "id": "b058937e",
   "metadata": {},
   "outputs": [],
   "source": [
    "#Importing required libraries\n",
    "from sklearn.preprocessing import MaxAbsScaler"
   ]
  },
  {
   "cell_type": "code",
   "execution_count": 35,
   "id": "5e3eda04",
   "metadata": {},
   "outputs": [],
   "source": [
    "#Creating object of MinMaxScalar Class\n",
    "\n",
    "abs_scaler = MaxAbsScaler()\n"
   ]
  },
  {
   "cell_type": "code",
   "execution_count": 36,
   "id": "e7928e21",
   "metadata": {},
   "outputs": [
    {
     "data": {
      "text/plain": [
       "Index(['age', 'bp', 'sg', 'al', 'su', 'rbc', 'pc', 'pcc', 'ba', 'bgr', 'bu',\n",
       "       'sc', 'sod', 'pot', 'hemo', 'pcv', 'wc', 'rc', 'htn', 'dm', 'cad',\n",
       "       'appet', 'pe', 'ane', 'classification'],\n",
       "      dtype='object')"
      ]
     },
     "execution_count": 36,
     "metadata": {},
     "output_type": "execute_result"
    }
   ],
   "source": [
    "A = df.columns\n",
    "A"
   ]
  },
  {
   "cell_type": "code",
   "execution_count": 37,
   "id": "92e48539",
   "metadata": {},
   "outputs": [
    {
     "data": {
      "text/plain": [
       "['rbc', 'pc', 'pcc', 'ba', 'htn', 'dm', 'cad', 'appet', 'pe', 'ane']"
      ]
     },
     "execution_count": 37,
     "metadata": {},
     "output_type": "execute_result"
    }
   ],
   "source": [
    "lst_cat"
   ]
  },
  {
   "cell_type": "code",
   "execution_count": 38,
   "id": "8ac3c355",
   "metadata": {},
   "outputs": [],
   "source": [
    "lst_num_ = ['age', 'bp', 'sg', 'al', 'su','bgr', 'bu','sc', 'sod', 'pot', 'hemo', 'pcv', 'wc', 'rc']"
   ]
  },
  {
   "cell_type": "code",
   "execution_count": 39,
   "id": "8b7529dc",
   "metadata": {},
   "outputs": [],
   "source": [
    "#Listing Numerical Columns for transformation\n",
    "B = lst_num_\n",
    "\n",
    "#Transforming numerical columns\n",
    "df[B] =abs_scaler.fit_transform(df[B])"
   ]
  },
  {
   "cell_type": "markdown",
   "id": "85a9d0b0",
   "metadata": {},
   "source": [
    "# Q3 Visualize the dataset using any two appropriate graphs"
   ]
  },
  {
   "cell_type": "markdown",
   "id": "f83f4434",
   "metadata": {},
   "source": [
    "### Visualisation of Catagorical features"
   ]
  },
  {
   "cell_type": "code",
   "execution_count": 40,
   "id": "fc7325f2",
   "metadata": {},
   "outputs": [
    {
     "data": {
      "image/png": "[encoded data removed]",
      "text/plain": [
       "<Figure size 432x288 with 1 Axes>"
      ]
     },
     "metadata": {
      "needs_background": "light"
     },
     "output_type": "display_data"
    },
    {
     "data": {
      "image/png": "[encoded data removed]",
      "text/plain": [
       "<Figure size 432x288 with 1 Axes>"
      ]
     },
     "metadata": {
      "needs_background": "light"
     },
     "output_type": "display_data"
    },
    {
     "data": {
      "image/png": "[encoded data removed]",
      "text/plain": [
       "<Figure size 432x288 with 1 Axes>"
      ]
     },
     "metadata": {
      "needs_background": "light"
     },
     "output_type": "display_data"
    },
    {
     "data": {
      "image/png": "[encoded data removed]",
      "text/plain": [
       "<Figure size 432x288 with 1 Axes>"
      ]
     },
     "metadata": {
      "needs_background": "light"
     },
     "output_type": "display_data"
    },
    {
     "data": {
      "image/png": "[encoded data removed]",
      "text/plain": [
       "<Figure size 432x288 with 1 Axes>"
      ]
     },
     "metadata": {
      "needs_background": "light"
     },
     "output_type": "display_data"
    },
    {
     "data": {
      "image/png": "[encoded data removed]",
      "text/plain": [
       "<Figure size 432x288 with 1 Axes>"
      ]
     },
     "metadata": {
      "needs_background": "light"
     },
     "output_type": "display_data"
    },
    {
     "data": {
      "image/png": "[encoded data removed]",
      "text/plain": [
       "<Figure size 432x288 with 1 Axes>"
      ]
     },
     "metadata": {
      "needs_background": "light"
     },
     "output_type": "display_data"
    },
    {
     "data": {
      "image/png": "[encoded data removed]",
      "text/plain": [
       "<Figure size 432x288 with 1 Axes>"
      ]
     },
     "metadata": {
      "needs_background": "light"
     },
     "output_type": "display_data"
    },
    {
     "data": {
      "image/png": "[encoded data removed]",
      "text/plain": [
       "<Figure size 432x288 with 1 Axes>"
      ]
     },
     "metadata": {
      "needs_background": "light"
     },
     "output_type": "display_data"
    },
    {
     "data": {
      "image/png": "[encoded data removed]",
      "text/plain": [
       "<Figure size 432x288 with 1 Axes>"
      ]
     },
     "metadata": {
      "needs_background": "light"
     },
     "output_type": "display_data"
    }
   ],
   "source": [
    "# barplot for catagorical features\n",
    "\n",
    "for i in lst_cat:\n",
    "    sns.countplot(x = i, hue = 'classification',data = df)\n",
    "    plt.show()"
   ]
  },
  {
   "cell_type": "markdown",
   "id": "aaf0899e",
   "metadata": {},
   "source": [
    "### Observations: <br >\n",
    "1. 'rbc' ubnormal represents 'ckd'.<br >\n",
    "2. 'pc' ubnormal represents 'ckd'.<br >\n",
    "3. 'pcc' present represents 'ckd'.<br >\n",
    "4. 'ba' present represents 'ckd'.<br >\n",
    "5. 'htn' yes represents 'ckd'<br >\n",
    "6. 'dm' yes represents 'ckd'<br >\n",
    "7. 'cad' yes represents 'ckd'<br >\n",
    "8. 'appet' poor represents 'ckd'<br >\n",
    "9. 'pe' yes represents 'ckd'<br >\n",
    "10. 'ane' yes represents 'ckd'<br >\n"
   ]
  },
  {
   "cell_type": "markdown",
   "id": "ae58caa0",
   "metadata": {},
   "source": [
    "### Visualisation of Numerical features"
   ]
  },
  {
   "cell_type": "code",
   "execution_count": 41,
   "id": "9a3349e6",
   "metadata": {},
   "outputs": [],
   "source": [
    "df1=df.drop(lst_cat, axis = 1, inplace = False)"
   ]
  },
  {
   "cell_type": "code",
   "execution_count": 42,
   "id": "7004a6a4",
   "metadata": {},
   "outputs": [
    {
     "data": {
      "image/png": "[encoded data removed]",
      "text/plain": [
       "<Figure size 432x288 with 1 Axes>"
      ]
     },
     "metadata": {
      "needs_background": "light"
     },
     "output_type": "display_data"
    },
    {
     "data": {
      "image/png": "[encoded data removed]",
      "text/plain": [
       "<Figure size 432x288 with 1 Axes>"
      ]
     },
     "metadata": {
      "needs_background": "light"
     },
     "output_type": "display_data"
    },
    {
     "data": {
      "image/png": "[encoded data removed]",
      "text/plain": [
       "<Figure size 432x288 with 1 Axes>"
      ]
     },
     "metadata": {
      "needs_background": "light"
     },
     "output_type": "display_data"
    },
    {
     "data": {
      "image/png": "[encoded data removed]",
      "text/plain": [
       "<Figure size 432x288 with 1 Axes>"
      ]
     },
     "metadata": {
      "needs_background": "light"
     },
     "output_type": "display_data"
    },
    {
     "data": {
      "image/png": "[encoded data removed]",
      "text/plain": [
       "<Figure size 432x288 with 1 Axes>"
      ]
     },
     "metadata": {
      "needs_background": "light"
     },
     "output_type": "display_data"
    },
    {
     "data": {
      "image/png": "[encoded data removed]",
      "text/plain": [
       "<Figure size 432x288 with 1 Axes>"
      ]
     },
     "metadata": {
      "needs_background": "light"
     },
     "output_type": "display_data"
    },
    {
     "data": {
      "image/png": "[encoded data removed]",
      "text/plain": [
       "<Figure size 432x288 with 1 Axes>"
      ]
     },
     "metadata": {
      "needs_background": "light"
     },
     "output_type": "display_data"
    },
    {
     "data": {
      "image/png": "[encoded data removed]",
      "text/plain": [
       "<Figure size 432x288 with 1 Axes>"
      ]
     },
     "metadata": {
      "needs_background": "light"
     },
     "output_type": "display_data"
    },
    {
     "data": {
      "image/png": "[encoded data removed]",
      "text/plain": [
       "<Figure size 432x288 with 1 Axes>"
      ]
     },
     "metadata": {
      "needs_background": "light"
     },
     "output_type": "display_data"
    },
    {
     "data": {
      "image/png": "[encoded data removed]",
      "text/plain": [
       "<Figure size 432x288 with 1 Axes>"
      ]
     },
     "metadata": {
      "needs_background": "light"
     },
     "output_type": "display_data"
    },
    {
     "data": {
      "image/png": "[encoded data removed]",
      "text/plain": [
       "<Figure size 432x288 with 1 Axes>"
      ]
     },
     "metadata": {
      "needs_background": "light"
     },
     "output_type": "display_data"
    },
    {
     "data": {
      "image/png": "[encoded data removed]",
      "text/plain": [
       "<Figure size 432x288 with 1 Axes>"
      ]
     },
     "metadata": {
      "needs_background": "light"
     },
     "output_type": "display_data"
    },
    {
     "data": {
      "image/png": "[encoded data removed]",
      "text/plain": [
       "<Figure size 432x288 with 1 Axes>"
      ]
     },
     "metadata": {
      "needs_background": "light"
     },
     "output_type": "display_data"
    },
    {
     "data": {
      "image/png": "[encoded data removed]",
      "text/plain": [
       "<Figure size 432x288 with 1 Axes>"
      ]
     },
     "metadata": {
      "needs_background": "light"
     },
     "output_type": "display_data"
    }
   ],
   "source": [
    "\n",
    "for i in lst_num:\n",
    "    \n",
    "    sns.histplot(data=df1, x=i, hue = 'classification') \n",
    "    plt.show()"
   ]
  },
  {
   "cell_type": "markdown",
   "id": "415b9b70",
   "metadata": {},
   "source": [
    "### Observations: <br >\n",
    "1. 'sg' on higher side may cause 'ckd'.<br >\n",
    "2. 'al' on lower side may signify less chances of 'ckd'.<br >\n",
    "3. 'bgr' on higher side may cause 'ckd'.<br >\n",
    "4. 'hemo'on lower side may signify high chances of 'ckd'.<br >\n",
    "5. 'pcv'on lower side may signify high chances of 'ckd'.<br >\n",
    "6. 'rc'on lower side may signify high chances of 'ckd'.<br >\n",
    "\n",
    "\n",
    "### <br > Apart from the above observations it has been observed that some of the features are having skewed distribution hence it is wise to use **log transformation.**<br >\n",
    "**['bgr', 'bu', 'sc' , 'sod','pot','wc', 'bp','al','su','hemo']**"
   ]
  },
  {
   "cell_type": "code",
   "execution_count": 43,
   "id": "1a70a03c",
   "metadata": {},
   "outputs": [
    {
     "data": {
      "text/plain": [
       "\"\\n# Log2 transformation of the skewed continuous features such as :\\n\\n# ['bgr', 'bu', 'sc' , 'sod','pot','wc', 'bp','al','su','hemo']\\n\\nlst_transform = ['bgr', 'bu', 'sc' , 'sod','pot','wc', 'bp','al','hemo']\\n\\nfor k in lst_transform:\\n    \\n    df[k] = np.log2(df[k])\\n\""
      ]
     },
     "execution_count": 43,
     "metadata": {},
     "output_type": "execute_result"
    }
   ],
   "source": [
    "'''\n",
    "# Log2 transformation of the skewed continuous features such as :\n",
    "\n",
    "# ['bgr', 'bu', 'sc' , 'sod','pot','wc', 'bp','al','su','hemo']\n",
    "\n",
    "lst_transform = ['bgr', 'bu', 'sc' , 'sod','pot','wc', 'bp','al','hemo']\n",
    "\n",
    "for k in lst_transform:\n",
    "    \n",
    "    df[k] = np.log2(df[k])\n",
    "'''"
   ]
  },
  {
   "cell_type": "markdown",
   "id": "982f42d2",
   "metadata": {},
   "source": [
    "# Q2 Splitting the data into X & Y"
   ]
  },
  {
   "cell_type": "code",
   "execution_count": 44,
   "id": "f34bca3b",
   "metadata": {},
   "outputs": [],
   "source": [
    "# splitting of data in X & Y column\n",
    "\n",
    "Y = df['classification']\n",
    "    \n",
    "X = df.drop(['classification'], axis =1)"
   ]
  },
  {
   "cell_type": "code",
   "execution_count": 45,
   "id": "11d9f5e5",
   "metadata": {},
   "outputs": [
    {
     "data": {
      "text/html": [
       "<div>\n",
       "<style scoped>\n",
       "    .dataframe tbody tr th:only-of-type {\n",
       "        vertical-align: middle;\n",
       "    }\n",
       "\n",
       "    .dataframe tbody tr th {\n",
       "        vertical-align: top;\n",
       "    }\n",
       "\n",
       "    .dataframe thead th {\n",
       "        text-align: right;\n",
       "    }\n",
       "</style>\n",
       "<table border=\"1\" class=\"dataframe\">\n",
       "  <thead>\n",
       "    <tr style=\"text-align: right;\">\n",
       "      <th></th>\n",
       "      <th>age</th>\n",
       "      <th>bp</th>\n",
       "      <th>sg</th>\n",
       "      <th>al</th>\n",
       "      <th>su</th>\n",
       "      <th>rbc</th>\n",
       "      <th>pc</th>\n",
       "      <th>pcc</th>\n",
       "      <th>ba</th>\n",
       "      <th>bgr</th>\n",
       "      <th>...</th>\n",
       "      <th>hemo</th>\n",
       "      <th>pcv</th>\n",
       "      <th>wc</th>\n",
       "      <th>rc</th>\n",
       "      <th>htn</th>\n",
       "      <th>dm</th>\n",
       "      <th>cad</th>\n",
       "      <th>appet</th>\n",
       "      <th>pe</th>\n",
       "      <th>ane</th>\n",
       "    </tr>\n",
       "  </thead>\n",
       "  <tbody>\n",
       "    <tr>\n",
       "      <th>0</th>\n",
       "      <td>0.533333</td>\n",
       "      <td>0.444444</td>\n",
       "      <td>0.995122</td>\n",
       "      <td>0.2</td>\n",
       "      <td>0.0</td>\n",
       "      <td>normal</td>\n",
       "      <td>normal</td>\n",
       "      <td>notpresent</td>\n",
       "      <td>notpresent</td>\n",
       "      <td>0.246939</td>\n",
       "      <td>...</td>\n",
       "      <td>0.865169</td>\n",
       "      <td>0.814815</td>\n",
       "      <td>0.295455</td>\n",
       "      <td>0.650000</td>\n",
       "      <td>yes</td>\n",
       "      <td>yes</td>\n",
       "      <td>no</td>\n",
       "      <td>good</td>\n",
       "      <td>no</td>\n",
       "      <td>no</td>\n",
       "    </tr>\n",
       "    <tr>\n",
       "      <th>1</th>\n",
       "      <td>0.077778</td>\n",
       "      <td>0.277778</td>\n",
       "      <td>0.995122</td>\n",
       "      <td>0.8</td>\n",
       "      <td>0.0</td>\n",
       "      <td>normal</td>\n",
       "      <td>normal</td>\n",
       "      <td>notpresent</td>\n",
       "      <td>notpresent</td>\n",
       "      <td>0.302115</td>\n",
       "      <td>...</td>\n",
       "      <td>0.634831</td>\n",
       "      <td>0.703704</td>\n",
       "      <td>0.227273</td>\n",
       "      <td>0.588429</td>\n",
       "      <td>no</td>\n",
       "      <td>no</td>\n",
       "      <td>no</td>\n",
       "      <td>good</td>\n",
       "      <td>no</td>\n",
       "      <td>no</td>\n",
       "    </tr>\n",
       "    <tr>\n",
       "      <th>2</th>\n",
       "      <td>0.688889</td>\n",
       "      <td>0.444444</td>\n",
       "      <td>0.985366</td>\n",
       "      <td>0.4</td>\n",
       "      <td>0.6</td>\n",
       "      <td>normal</td>\n",
       "      <td>normal</td>\n",
       "      <td>notpresent</td>\n",
       "      <td>notpresent</td>\n",
       "      <td>0.863265</td>\n",
       "      <td>...</td>\n",
       "      <td>0.539326</td>\n",
       "      <td>0.574074</td>\n",
       "      <td>0.284091</td>\n",
       "      <td>0.588429</td>\n",
       "      <td>no</td>\n",
       "      <td>yes</td>\n",
       "      <td>no</td>\n",
       "      <td>poor</td>\n",
       "      <td>no</td>\n",
       "      <td>yes</td>\n",
       "    </tr>\n",
       "    <tr>\n",
       "      <th>3</th>\n",
       "      <td>0.533333</td>\n",
       "      <td>0.388889</td>\n",
       "      <td>0.980488</td>\n",
       "      <td>0.8</td>\n",
       "      <td>0.0</td>\n",
       "      <td>normal</td>\n",
       "      <td>abnormal</td>\n",
       "      <td>present</td>\n",
       "      <td>notpresent</td>\n",
       "      <td>0.238776</td>\n",
       "      <td>...</td>\n",
       "      <td>0.629213</td>\n",
       "      <td>0.592593</td>\n",
       "      <td>0.253788</td>\n",
       "      <td>0.487500</td>\n",
       "      <td>yes</td>\n",
       "      <td>no</td>\n",
       "      <td>no</td>\n",
       "      <td>poor</td>\n",
       "      <td>yes</td>\n",
       "      <td>yes</td>\n",
       "    </tr>\n",
       "    <tr>\n",
       "      <th>4</th>\n",
       "      <td>0.566667</td>\n",
       "      <td>0.444444</td>\n",
       "      <td>0.985366</td>\n",
       "      <td>0.4</td>\n",
       "      <td>0.0</td>\n",
       "      <td>normal</td>\n",
       "      <td>normal</td>\n",
       "      <td>notpresent</td>\n",
       "      <td>notpresent</td>\n",
       "      <td>0.216327</td>\n",
       "      <td>...</td>\n",
       "      <td>0.651685</td>\n",
       "      <td>0.648148</td>\n",
       "      <td>0.276515</td>\n",
       "      <td>0.575000</td>\n",
       "      <td>no</td>\n",
       "      <td>no</td>\n",
       "      <td>no</td>\n",
       "      <td>good</td>\n",
       "      <td>no</td>\n",
       "      <td>no</td>\n",
       "    </tr>\n",
       "  </tbody>\n",
       "</table>\n",
       "<p>5 rows × 24 columns</p>\n",
       "</div>"
      ],
      "text/plain": [
       "        age        bp        sg   al   su     rbc        pc         pcc  \\\n",
       "0  0.533333  0.444444  0.995122  0.2  0.0  normal    normal  notpresent   \n",
       "1  0.077778  0.277778  0.995122  0.8  0.0  normal    normal  notpresent   \n",
       "2  0.688889  0.444444  0.985366  0.4  0.6  normal    normal  notpresent   \n",
       "3  0.533333  0.388889  0.980488  0.8  0.0  normal  abnormal     present   \n",
       "4  0.566667  0.444444  0.985366  0.4  0.0  normal    normal  notpresent   \n",
       "\n",
       "           ba       bgr  ...      hemo       pcv        wc        rc  htn  \\\n",
       "0  notpresent  0.246939  ...  0.865169  0.814815  0.295455  0.650000  yes   \n",
       "1  notpresent  0.302115  ...  0.634831  0.703704  0.227273  0.588429   no   \n",
       "2  notpresent  0.863265  ...  0.539326  0.574074  0.284091  0.588429   no   \n",
       "3  notpresent  0.238776  ...  0.629213  0.592593  0.253788  0.487500  yes   \n",
       "4  notpresent  0.216327  ...  0.651685  0.648148  0.276515  0.575000   no   \n",
       "\n",
       "    dm  cad  appet   pe  ane  \n",
       "0  yes   no   good   no   no  \n",
       "1   no   no   good   no   no  \n",
       "2  yes   no   poor   no  yes  \n",
       "3   no   no   poor  yes  yes  \n",
       "4   no   no   good   no   no  \n",
       "\n",
       "[5 rows x 24 columns]"
      ]
     },
     "execution_count": 45,
     "metadata": {},
     "output_type": "execute_result"
    }
   ],
   "source": [
    "X.head()"
   ]
  },
  {
   "cell_type": "code",
   "execution_count": 46,
   "id": "7904fb0e",
   "metadata": {},
   "outputs": [
    {
     "data": {
      "text/plain": [
       "0    ckd\n",
       "1    ckd\n",
       "2    ckd\n",
       "3    ckd\n",
       "4    ckd\n",
       "Name: classification, dtype: object"
      ]
     },
     "execution_count": 46,
     "metadata": {},
     "output_type": "execute_result"
    }
   ],
   "source": [
    "Y.head()"
   ]
  },
  {
   "cell_type": "markdown",
   "id": "b3e13609",
   "metadata": {},
   "source": [
    "We are having 2 target variables here: <br >\n",
    "1. ckd<br >\n",
    "2. notckd<br >\n",
    "\n",
    "\n",
    "for the convenience of the model training we are encoding it.\n",
    "1. ckd : 1<br >\n",
    "2. notckd : 0<br >"
   ]
  },
  {
   "cell_type": "code",
   "execution_count": 47,
   "id": "967fca42",
   "metadata": {},
   "outputs": [
    {
     "data": {
      "text/plain": [
       "array([1, 0])"
      ]
     },
     "execution_count": 47,
     "metadata": {},
     "output_type": "execute_result"
    }
   ],
   "source": [
    "Y.replace(to_replace =\"ckd\", value =1, inplace = True)\n",
    "Y.replace(to_replace =\"notckd\", value =0, inplace = True)\n",
    "\n",
    "Y.unique()"
   ]
  },
  {
   "cell_type": "markdown",
   "id": "27d2ccdc",
   "metadata": {},
   "source": [
    "# Q4 Correlation- Heatmap"
   ]
  },
  {
   "cell_type": "code",
   "execution_count": 48,
   "id": "164ff7b8",
   "metadata": {},
   "outputs": [
    {
     "data": {
      "image/png": "[encoded data removed]",
      "text/plain": [
       "<Figure size 1008x1008 with 2 Axes>"
      ]
     },
     "metadata": {
      "needs_background": "light"
     },
     "output_type": "display_data"
    }
   ],
   "source": [
    "corr = X.corr() # corrlation matrix\n",
    "\n",
    "fig, ax = plt.subplots(figsize=(14,14))     \n",
    "\n",
    "heat = sns.heatmap(corr,annot=True,annot_kws={'size':12},cmap='BuPu')\n",
    "\n",
    "plt.show()"
   ]
  },
  {
   "cell_type": "markdown",
   "id": "2654b1d7",
   "metadata": {},
   "source": [
    "As per the above correlation heatmap:<br >\n",
    "1. 'sc' & 'bu' are correleted<br >\n",
    "2. 'hemo' & 'pcv' are correleted<br >\n",
    "1. 'rc' & 'pcv' are correleted <br >\n",
    "\n",
    "Hence we can reduce the features: **'bu' , 'pcv' and 'rc'**"
   ]
  },
  {
   "cell_type": "code",
   "execution_count": 49,
   "id": "708dd941",
   "metadata": {},
   "outputs": [],
   "source": [
    "# Reducing feature 'bu' , 'pcv' and 'rc'\n",
    "\n",
    "X = X.drop(['bu','pcv','rc'] , axis = 1)"
   ]
  },
  {
   "cell_type": "code",
   "execution_count": 50,
   "id": "19143d76",
   "metadata": {},
   "outputs": [
    {
     "data": {
      "text/plain": [
       "(400, 21)"
      ]
     },
     "execution_count": 50,
     "metadata": {},
     "output_type": "execute_result"
    }
   ],
   "source": [
    "X.shape"
   ]
  },
  {
   "cell_type": "markdown",
   "id": "8f076ebb",
   "metadata": {},
   "source": [
    "# Q6 Splitting the dataset"
   ]
  },
  {
   "cell_type": "code",
   "execution_count": 51,
   "id": "783dbc81",
   "metadata": {},
   "outputs": [],
   "source": [
    "# importing train_test_split from sklearn\n",
    "from sklearn.model_selection import train_test_split"
   ]
  },
  {
   "cell_type": "code",
   "execution_count": 52,
   "id": "d4a4def7",
   "metadata": {},
   "outputs": [],
   "source": [
    "X.dm.unique() # here we are having multiple catagories refering to same details\n",
    "\n",
    "X.dm.replace(to_replace =\"yes\", value =1, inplace = True)\n",
    "X.dm.replace(to_replace =\"no\", value =0, inplace = True)\n",
    "\n",
    "X.rbc.replace(to_replace =\"normal\", value =1, inplace = True)\n",
    "X.rbc.replace(to_replace =\"abnormal\", value =0, inplace = True)\n",
    "\n",
    "X.pc.replace(to_replace =\"normal\", value =1, inplace = True)\n",
    "X.pc.replace(to_replace =\"abnormal\", value =0, inplace = True)\n",
    "\n",
    "X.pcc.replace(to_replace =\"present\", value =1, inplace = True)\n",
    "X.pcc.replace(to_replace =\"notpresent\", value =0, inplace = True)\n",
    "\n",
    "X.ba.replace(to_replace =\"present\", value =1, inplace = True)\n",
    "X.ba.replace(to_replace =\"notpresent\", value =0, inplace = True)\n",
    "\n",
    "X.htn.replace(to_replace =\"yes\", value =1, inplace = True)\n",
    "X.htn.replace(to_replace =\"no\", value =0, inplace = True)\n",
    "\n",
    "X.cad.replace(to_replace =\"yes\", value =1, inplace = True)\n",
    "X.cad.replace(to_replace =\"no\", value =0, inplace = True)\n",
    "\n",
    "X.pe.replace(to_replace =\"yes\", value =1, inplace = True)\n",
    "X.pe.replace(to_replace =\"no\", value =0, inplace = True)\n",
    "\n",
    "X.ane.replace(to_replace =\"yes\", value =1, inplace = True)\n",
    "X.ane.replace(to_replace =\"no\", value =0, inplace = True)\n",
    "\n",
    "X.appet.replace(to_replace =\"good\", value =1, inplace = True)\n",
    "X.appet.replace(to_replace =\"poor\", value =0, inplace = True)"
   ]
  },
  {
   "cell_type": "code",
   "execution_count": 53,
   "id": "0bbd34ba",
   "metadata": {},
   "outputs": [],
   "source": [
    "# splitting the data\n",
    "\n",
    "x_train, x_test, y_train, y_test = train_test_split(X, Y, test_size = 0.1, random_state = 60)"
   ]
  },
  {
   "cell_type": "markdown",
   "id": "179cd3c9",
   "metadata": {},
   "source": [
    "### Generating Model"
   ]
  },
  {
   "cell_type": "code",
   "execution_count": 66,
   "id": "27305607",
   "metadata": {},
   "outputs": [],
   "source": [
    "#Import svm model\n",
    "from sklearn import svm\n",
    "from sklearn.svm import SVC"
   ]
  },
  {
   "cell_type": "code",
   "execution_count": 67,
   "id": "d8e02783",
   "metadata": {},
   "outputs": [],
   "source": [
    "#Create a svm Classifier\n",
    "model_svm = svm.SVC(kernel='linear') # Linear Kernel\n",
    "acc_score = []"
   ]
  },
  {
   "cell_type": "code",
   "execution_count": 68,
   "id": "5ead258a",
   "metadata": {},
   "outputs": [],
   "source": [
    "def get_score(model, x_train , x_test , y_train , y_test):\n",
    "    \n",
    "    model.fit(x_train,y_train)\n",
    "    return model.score(x_test,y_test)"
   ]
  },
  {
   "cell_type": "code",
   "execution_count": 69,
   "id": "05a832a6",
   "metadata": {},
   "outputs": [
    {
     "data": {
      "text/plain": [
       "0.9125"
      ]
     },
     "execution_count": 69,
     "metadata": {},
     "output_type": "execute_result"
    }
   ],
   "source": [
    "get_score(model_svm , x_train , x_test , y_train , y_test)"
   ]
  },
  {
   "cell_type": "markdown",
   "id": "2225040b",
   "metadata": {},
   "source": [
    "# Q7 : 5 fold cross validation"
   ]
  },
  {
   "cell_type": "code",
   "execution_count": 70,
   "id": "7e0d0d84",
   "metadata": {},
   "outputs": [],
   "source": [
    "from sklearn.model_selection import KFold\n",
    "from sklearn.metrics import accuracy_score"
   ]
  },
  {
   "cell_type": "code",
   "execution_count": 71,
   "id": "278e6582",
   "metadata": {},
   "outputs": [],
   "source": [
    "#Implementing cross validation\n",
    " \n",
    "k = 5\n",
    "kf = KFold(n_splits=k, random_state=None)"
   ]
  },
  {
   "cell_type": "markdown",
   "id": "63f6cfe2",
   "metadata": {},
   "source": [
    "# Q8 Training SVM model"
   ]
  },
  {
   "cell_type": "code",
   "execution_count": 72,
   "id": "86afac83",
   "metadata": {},
   "outputs": [],
   "source": [
    "scores_svm = []"
   ]
  },
  {
   "cell_type": "code",
   "execution_count": 74,
   "id": "58bff2ae",
   "metadata": {},
   "outputs": [
    {
     "data": {
      "text/plain": [
       "[0.875, 0.875, 0.8, 1.0, 1.0, 0.875, 0.875, 0.8, 1.0, 1.0]"
      ]
     },
     "execution_count": 74,
     "metadata": {},
     "output_type": "execute_result"
    }
   ],
   "source": [
    "for train_index, test_index in kf.split(X,Y):\n",
    "    x_train , x_test = X.iloc[train_index,:],X.iloc[test_index,:]\n",
    "    y_train , y_test = Y[train_index] , Y[test_index]\n",
    "      \n",
    "    scores_svm.append(get_score(SVC(gamma='auto'), x_train, x_test, y_train, y_test))\n",
    "    \n",
    "\n"
   ]
  },
  {
   "cell_type": "markdown",
   "id": "581acc5b",
   "metadata": {},
   "source": [
    " # Q9 Classification report & confusion matrix"
   ]
  },
  {
   "cell_type": "code",
   "execution_count": 79,
   "id": "29baed2f",
   "metadata": {},
   "outputs": [
    {
     "data": {
      "text/plain": [
       "[0.875, 0.875, 0.8, 1.0, 1.0, 0.875, 0.875, 0.8, 1.0, 1.0]"
      ]
     },
     "execution_count": 79,
     "metadata": {},
     "output_type": "execute_result"
    }
   ],
   "source": [
    "scores_svm"
   ]
  },
  {
   "cell_type": "code",
   "execution_count": 80,
   "id": "635547fd",
   "metadata": {},
   "outputs": [
    {
     "data": {
      "text/plain": [
       "0.9099999999999999"
      ]
     },
     "execution_count": 80,
     "metadata": {},
     "output_type": "execute_result"
    }
   ],
   "source": [
    "avg_score = sum(scores_svm)/len(scores_svm)\n",
    "\n",
    "avg_score"
   ]
  },
  {
   "cell_type": "code",
   "execution_count": null,
   "id": "088f3ab2",
   "metadata": {},
   "outputs": [],
   "source": []
  }
 ],
 "metadata": {
  "kernelspec": {
   "display_name": "Python 3 (ipykernel)",
   "language": "python",
   "name": "python3"
  },
  "language_info": {
   "codemirror_mode": {
    "name": "ipython",
    "version": 3
   },
   "file_extension": ".py",
   "mimetype": "text/x-python",
   "name": "python",
   "nbconvert_exporter": "python",
   "pygments_lexer": "ipython3",
   "version": "3.9.7"
  }
 },
 "nbformat": 4,
 "nbformat_minor": 5
}
